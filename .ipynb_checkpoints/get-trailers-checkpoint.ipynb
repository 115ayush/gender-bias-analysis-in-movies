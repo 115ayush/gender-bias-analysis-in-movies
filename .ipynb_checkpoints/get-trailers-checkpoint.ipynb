{
 "cells": [
  {
   "cell_type": "code",
   "execution_count": 1,
   "metadata": {
    "collapsed": true
   },
   "outputs": [],
   "source": [
    "import pandas as pd\n",
    "from pytube import YouTube\n",
    "import os\n",
    "import urllib\n",
    "import urllib2\n",
    "from bs4 import BeautifulSoup\n",
    "\n",
    "base_url = 'https://www.youtube.com/results?search_query='\n",
    "TRAILER = 'official trailer'\n",
    "SPACE = ' '\n",
    "DASH = '-'\n",
    "base_path = '/home/mayank/Desktop/gender-bias-detection/official-trailers/'\n",
    "\n",
    "df = pd.read_csv('movie-list.csv')\n",
    "year = df['Year']\n",
    "name = df['Name']"
   ]
  },
  {
   "cell_type": "code",
   "execution_count": 2,
   "metadata": {
    "collapsed": false
   },
   "outputs": [],
   "source": [
    "def get_trailer_link(textToSearch):\n",
    "    query = urllib.quote(textToSearch)\n",
    "    url = base_url + query\n",
    "    response = urllib2.urlopen(url)\n",
    "    html = response.read()\n",
    "    soup = BeautifulSoup(html)\n",
    "    for vid in soup.findAll(attrs={'class':'yt-uix-tile-link'}):\n",
    "        trailer_url = 'https://www.youtube.com' + vid['href']\n",
    "        break\n",
    "    return trailer_url\n",
    "\n",
    "def download_trailer(trailer_url, filename, destination):\n",
    "    yt = YouTube(trailer_url)\n",
    "    yt.set_filename(filename)\n",
    "    video = yt.get('mp4', '360p')\n",
    "    video.download(destination)"
   ]
  },
  {
   "cell_type": "code",
   "execution_count": null,
   "metadata": {
    "collapsed": false,
    "scrolled": true
   },
   "outputs": [
    {
     "name": "stdout",
     "output_type": "stream",
     "text": [
      "('search_query', 'Wanted 2009 official trailer')\n",
      "('trailer_url', 'https://www.youtube.com/watch?v=fxm4KcKDQl0')\n",
      "('counter', 918)\n",
      "('search_query', \"What's Your Rashee? 2009 official trailer\")\n",
      "('trailer_url', 'https://www.youtube.com/watch?v=ZRhJMzJ2ntk')\n",
      "('counter', 919)\n",
      "('search_query', 'Do Knot Disturb 2009 official trailer')\n",
      "('trailer_url', 'https://www.youtube.com/watch?v=ceTB96HkHkI')\n",
      "('counter', 920)\n"
     ]
    }
   ],
   "source": [
    "counter = 917\n",
    "\n",
    "for i in range(918, len(year)):\n",
    "    y = str(year[i])\n",
    "    n = str(name[i])\n",
    "    search_query = n + SPACE + y + SPACE + TRAILER\n",
    "    n = n.lower()\n",
    "    n = n.replace(\" \", \"_\")\n",
    "    \n",
    "    filename = y + DASH + n \n",
    "    destination = base_path + filename + '/'\n",
    "\n",
    "    if not os.path.exists(destination):\n",
    "        os.makedirs(destination) \n",
    "\n",
    "    trailer_url = get_trailer_link(search_query)\n",
    "    \n",
    "    counter = counter + 1\n",
    "\n",
    "    print('search_query', search_query)\n",
    "    #print('filename', filename)\n",
    "    #print('destination', destination)\n",
    "    print('trailer_url', trailer_url)\n",
    "    print('counter', counter)\n",
    "    try :\n",
    "        download_trailer(trailer_url, filename, destination)\n",
    "    except Exception as e:\n",
    "        print str(e)\n",
    "        continue"
   ]
  },
  {
   "cell_type": "code",
   "execution_count": null,
   "metadata": {
    "collapsed": true
   },
   "outputs": [],
   "source": []
  },
  {
   "cell_type": "code",
   "execution_count": null,
   "metadata": {
    "collapsed": true
   },
   "outputs": [],
   "source": []
  }
 ],
 "metadata": {
  "kernelspec": {
   "display_name": "Python 2",
   "language": "python",
   "name": "python2"
  },
  "language_info": {
   "codemirror_mode": {
    "name": "ipython",
    "version": 2
   },
   "file_extension": ".py",
   "mimetype": "text/x-python",
   "name": "python",
   "nbconvert_exporter": "python",
   "pygments_lexer": "ipython2",
   "version": "2.7.12"
  }
 },
 "nbformat": 4,
 "nbformat_minor": 1
}
