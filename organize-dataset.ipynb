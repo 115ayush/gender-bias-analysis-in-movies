{
 "cells": [
  {
   "cell_type": "code",
   "execution_count": 6,
   "metadata": {
    "collapsed": true
   },
   "outputs": [],
   "source": [
    "import pandas as pd\n",
    "import os\n",
    "from shutil import copy2"
   ]
  },
  {
   "cell_type": "code",
   "execution_count": 7,
   "metadata": {
    "collapsed": false
   },
   "outputs": [
    {
     "data": {
      "text/plain": [
       "(32197, 5)"
      ]
     },
     "execution_count": 7,
     "metadata": {},
     "output_type": "execute_result"
    }
   ],
   "source": [
    "df = pd.read_csv(\"/home/mayank/Desktop/gender-bias-detection/data/data.csv\")\n",
    "\n",
    "images_base_path = \"/home/mayank/Desktop/gender-bias-detection/public-dataset/frames/\"\n",
    "\n",
    "organized_data_path = \"/home/mayank/Desktop/gender-bias-detection/organized-dataset/\"\n",
    "\n",
    "df.shape"
   ]
  },
  {
   "cell_type": "code",
   "execution_count": 9,
   "metadata": {
    "collapsed": false
   },
   "outputs": [
    {
     "name": "stdout",
     "output_type": "stream",
     "text": [
      "('count', 32197)\n"
     ]
    }
   ],
   "source": [
    "count = 0 \n",
    "for index, rows in df.iterrows():\n",
    "    #print('rows', rows[1])\n",
    "    frame = rows[0]\n",
    "    emotion = rows[2]\n",
    "    year = rows[3]\n",
    "    movie_name = rows[4]\n",
    "    folder_name = str(year) + '-' + str(movie_name) + '/'\n",
    "    #print(type(folder_name))\n",
    "    img = images_base_path + folder_name + 'frame' + str(frame) + '.jpg'\n",
    "    #print(img)\n",
    "    dest = organized_data_path + str(emotion) + '/' + str(movie_name) + '-' + str(frame) + '.jpg'\n",
    "    copy2(img, dest)\n",
    "    count = count + 1\n",
    "    #print(count)\n",
    "    #break\n",
    "print('count', count)"
   ]
  },
  {
   "cell_type": "code",
   "execution_count": null,
   "metadata": {
    "collapsed": true
   },
   "outputs": [],
   "source": []
  }
 ],
 "metadata": {
  "kernelspec": {
   "display_name": "Python 2",
   "language": "python",
   "name": "python2"
  },
  "language_info": {
   "codemirror_mode": {
    "name": "ipython",
    "version": 2
   },
   "file_extension": ".py",
   "mimetype": "text/x-python",
   "name": "python",
   "nbconvert_exporter": "python",
   "pygments_lexer": "ipython2",
   "version": "2.7.12"
  }
 },
 "nbformat": 4,
 "nbformat_minor": 1
}
